{
  "cells": [
    {
      "cell_type": "markdown",
      "metadata": {
        "id": "TFQ17AmL0Yd0"
      },
      "source": [
        "# CH-02 從零開始的 OpenAI API"
      ]
    },
    {
      "cell_type": "markdown",
      "metadata": {
        "id": "a42M4mg1qNQ5"
      },
      "source": [
        "## 2-3 建構自己的 AI 機器人"
      ]
    },
    {
      "cell_type": "markdown",
      "metadata": {
        "id": "rwGTl75BLNwu"
      },
      "source": [
        "### 1️⃣ 使用 OpenAI API 官方套件\n",
        "\n",
        "OpenAI 官方提供有 openai 套件, 可以簡化使用上的複雜度。"
      ]
    },
    {
      "cell_type": "code",
      "execution_count": 2,
      "metadata": {
        "colab": {
          "base_uri": "https://localhost:8080/"
        },
        "id": "V9x1F86C4T9u",
        "outputId": "cb508dd6-79f6-4be7-c46e-c093ee289dad"
      },
      "outputs": [
        {
          "output_type": "stream",
          "name": "stdout",
          "text": [
            "Collecting openai\n",
            "  Downloading openai-1.30.1-py3-none-any.whl (320 kB)\n",
            "\u001b[2K     \u001b[90m━━━━━━━━━━━━━━━━━━━━━━━━━━━━━━━━━━━━━━━━\u001b[0m \u001b[32m320.6/320.6 kB\u001b[0m \u001b[31m5.4 MB/s\u001b[0m eta \u001b[36m0:00:00\u001b[0m\n",
            "\u001b[?25hRequirement already satisfied: anyio<5,>=3.5.0 in /usr/local/lib/python3.10/dist-packages (from openai) (3.7.1)\n",
            "Requirement already satisfied: distro<2,>=1.7.0 in /usr/lib/python3/dist-packages (from openai) (1.7.0)\n",
            "Collecting httpx<1,>=0.23.0 (from openai)\n",
            "  Downloading httpx-0.27.0-py3-none-any.whl (75 kB)\n",
            "\u001b[2K     \u001b[90m━━━━━━━━━━━━━━━━━━━━━━━━━━━━━━━━━━━━━━━━\u001b[0m \u001b[32m75.6/75.6 kB\u001b[0m \u001b[31m5.8 MB/s\u001b[0m eta \u001b[36m0:00:00\u001b[0m\n",
            "\u001b[?25hRequirement already satisfied: pydantic<3,>=1.9.0 in /usr/local/lib/python3.10/dist-packages (from openai) (2.7.1)\n",
            "Requirement already satisfied: sniffio in /usr/local/lib/python3.10/dist-packages (from openai) (1.3.1)\n",
            "Requirement already satisfied: tqdm>4 in /usr/local/lib/python3.10/dist-packages (from openai) (4.66.4)\n",
            "Requirement already satisfied: typing-extensions<5,>=4.7 in /usr/local/lib/python3.10/dist-packages (from openai) (4.11.0)\n",
            "Requirement already satisfied: idna>=2.8 in /usr/local/lib/python3.10/dist-packages (from anyio<5,>=3.5.0->openai) (3.7)\n",
            "Requirement already satisfied: exceptiongroup in /usr/local/lib/python3.10/dist-packages (from anyio<5,>=3.5.0->openai) (1.2.1)\n",
            "Requirement already satisfied: certifi in /usr/local/lib/python3.10/dist-packages (from httpx<1,>=0.23.0->openai) (2024.2.2)\n",
            "Collecting httpcore==1.* (from httpx<1,>=0.23.0->openai)\n",
            "  Downloading httpcore-1.0.5-py3-none-any.whl (77 kB)\n",
            "\u001b[2K     \u001b[90m━━━━━━━━━━━━━━━━━━━━━━━━━━━━━━━━━━━━━━━━\u001b[0m \u001b[32m77.9/77.9 kB\u001b[0m \u001b[31m7.0 MB/s\u001b[0m eta \u001b[36m0:00:00\u001b[0m\n",
            "\u001b[?25hCollecting h11<0.15,>=0.13 (from httpcore==1.*->httpx<1,>=0.23.0->openai)\n",
            "  Downloading h11-0.14.0-py3-none-any.whl (58 kB)\n",
            "\u001b[2K     \u001b[90m━━━━━━━━━━━━━━━━━━━━━━━━━━━━━━━━━━━━━━━━\u001b[0m \u001b[32m58.3/58.3 kB\u001b[0m \u001b[31m6.3 MB/s\u001b[0m eta \u001b[36m0:00:00\u001b[0m\n",
            "\u001b[?25hRequirement already satisfied: annotated-types>=0.4.0 in /usr/local/lib/python3.10/dist-packages (from pydantic<3,>=1.9.0->openai) (0.6.0)\n",
            "Requirement already satisfied: pydantic-core==2.18.2 in /usr/local/lib/python3.10/dist-packages (from pydantic<3,>=1.9.0->openai) (2.18.2)\n",
            "Installing collected packages: h11, httpcore, httpx, openai\n",
            "Successfully installed h11-0.14.0 httpcore-1.0.5 httpx-0.27.0 openai-1.30.1\n"
          ]
        }
      ],
      "source": [
        "!pip install openai"
      ]
    },
    {
      "cell_type": "markdown",
      "metadata": {
        "id": "wGukHBkyiQA2"
      },
      "source": [
        "### 2️⃣ 輸入 API KEY\n",
        "getpass 套件可以隱藏輸入值"
      ]
    },
    {
      "cell_type": "code",
      "execution_count": 3,
      "metadata": {
        "id": "ZN8CnE789cPy"
      },
      "outputs": [],
      "source": [
        "from openai import OpenAI, OpenAIError # OpenAI 官方套件\n",
        "\n",
        "# import getpass # 保密輸入套件\n",
        "#api_key = getpass.getpass(\"請輸入金鑰：\")\n",
        "from google.colab import userdata\n",
        "api_key=userdata.get('A888168GPT')\n",
        "client = OpenAI(api_key = api_key) # 建立 OpenAI 物件"
      ]
    },
    {
      "cell_type": "markdown",
      "metadata": {
        "id": "pC1gzHDLiqhT"
      },
      "source": [
        "### 3️⃣ 建構模型並交談"
      ]
    },
    {
      "cell_type": "code",
      "execution_count": 4,
      "metadata": {
        "id": "OBkpRomPEXd1"
      },
      "outputs": [],
      "source": [
        "reply = client.chat.completions.create(\n",
        "    # model = \"gpt-3.5-turbo\",\n",
        "    model = \"gpt-4o\",\n",
        "    messages = [\n",
        "        {\"role\":\"user\", \"content\": \"你住的地方很亮嗎？\"}\n",
        "    ]\n",
        ")"
      ]
    },
    {
      "cell_type": "markdown",
      "metadata": {
        "id": "pyelatvvLiIn"
      },
      "source": [
        "### 4️⃣ 檢視傳回物件"
      ]
    },
    {
      "cell_type": "code",
      "execution_count": 5,
      "metadata": {
        "colab": {
          "base_uri": "https://localhost:8080/"
        },
        "id": "aSjownHrGnde",
        "outputId": "196ba77f-8beb-422b-b033-8100d9b49bbf"
      },
      "outputs": [
        {
          "output_type": "stream",
          "name": "stdout",
          "text": [
            "ChatCompletion(id='chatcmpl-9RIwphnZvB7ecr1HQzYjD4lLf4Oc0', choices=[Choice(finish_reason='stop', index=0, logprobs=None, message=ChatCompletionMessage(content='我不住在具體的地方，也沒有光線的感知能力。我是由雲端的伺服器運行的人工智慧模型，通過網絡與人互動。如果你有關於光線或其他相關主題的問題，我很樂意為你提供幫助！', role='assistant', function_call=None, tool_calls=None))], created=1716294719, model='gpt-4o-2024-05-13', object='chat.completion', system_fingerprint='fp_729ea513f7', usage=CompletionUsage(completion_tokens=67, prompt_tokens=15, total_tokens=82))\n"
          ]
        }
      ],
      "source": [
        "print(reply)"
      ]
    },
    {
      "cell_type": "markdown",
      "metadata": {
        "id": "MkoAWO2GjnlT"
      },
      "source": [
        "### 5️⃣ 檢視訊息內容"
      ]
    },
    {
      "cell_type": "code",
      "execution_count": 6,
      "metadata": {
        "colab": {
          "base_uri": "https://localhost:8080/"
        },
        "id": "oDHvn0VCGPzH",
        "outputId": "516c14b3-4241-44ed-a5f4-79c696281133"
      },
      "outputs": [
        {
          "output_type": "stream",
          "name": "stdout",
          "text": [
            "我不住在具體的地方，也沒有光線的感知能力。我是由雲端的伺服器運行的人工智慧模型，通過網絡與人互動。如果你有關於光線或其他相關主題的問題，我很樂意為你提供幫助！\n"
          ]
        }
      ],
      "source": [
        "print(reply.choices[0].message.content)"
      ]
    },
    {
      "cell_type": "code",
      "source": [
        "response3 = client.images.generate(\n",
        "  model=\"dall-e-3\",\n",
        "  prompt=\"上課中的教授\",\n",
        "  size=\"1024x1024\",\n",
        "  quality=\"standard\",\n",
        "  n=1,\n",
        ")\n",
        "\n",
        "image_url = response3.data[0].url\n",
        "image_url"
      ],
      "metadata": {
        "colab": {
          "base_uri": "https://localhost:8080/",
          "height": 122
        },
        "id": "_zxYT7bDN6Z-",
        "outputId": "abe3e943-a1f2-4e94-e7fe-f5bfa88baa05"
      },
      "execution_count": 7,
      "outputs": [
        {
          "output_type": "execute_result",
          "data": {
            "text/plain": [
              "'https://oaidalleapiprodscus.blob.core.windows.net/private/org-gkQ5kwh7lkFCeegVVUV2d5Fv/user-9GUW9rHD1NOq4CASiLZelWEr/img-xiTEWxLttBsNmICTKKD0tAcZ.png?st=2024-05-21T11%3A54%3A25Z&se=2024-05-21T13%3A54%3A25Z&sp=r&sv=2021-08-06&sr=b&rscd=inline&rsct=image/png&skoid=6aaadede-4fb3-4698-a8f6-684d7786b067&sktid=a48cca56-e6da-484e-a814-9c849652bcb3&skt=2024-05-21T10%3A37%3A09Z&ske=2024-05-22T10%3A37%3A09Z&sks=b&skv=2021-08-06&sig=ag/tkjlyBM6BFcy4CyV8tCsfGhiLn%2BAvg9q/QqKgqyA%3D'"
            ],
            "application/vnd.google.colaboratory.intrinsic+json": {
              "type": "string"
            }
          },
          "metadata": {},
          "execution_count": 7
        }
      ]
    },
    {
      "cell_type": "markdown",
      "metadata": {
        "id": "BP5FkDxALp4e"
      },
      "source": [
        "### 6️⃣ 設定 AI 角色"
      ]
    },
    {
      "cell_type": "code",
      "execution_count": null,
      "metadata": {
        "colab": {
          "base_uri": "https://localhost:8080/"
        },
        "id": "j1x0glPsNJe2",
        "outputId": "6c97487b-3e55-4bbe-8769-64efb7999880"
      },
      "outputs": [
        {
          "output_type": "stream",
          "name": "stdout",
          "text": [
            "是的，我的住處非常亮。在外太空，我可以看到無數顆星星和其他星體，它們為整個宇宙營造出耀眼的光彩。有些星體還散發出美麗的顏色，讓整個太空顯得更加繽紛多彩。每晚，我都可以欣賞這些美麗的光景，感覺非常神奇和壯觀。\n"
          ]
        }
      ],
      "source": [
        "reply = client.chat.completions.create(\n",
        "    model = \"gpt-3.5-turbo\",\n",
        "    messages = [\n",
        "        {\"role\":\"system\", \"content\":\"你是隻住在外太空的猴子\"},\n",
        "        {\"role\":\"user\", \"content\": \"你住的地方很亮嗎？ reply in 繁體中文\"}\n",
        "    ]\n",
        ")\n",
        "\n",
        "print(reply.choices[0].message.content)"
      ]
    },
    {
      "cell_type": "code",
      "source": [
        "\n",
        "response = client.chat.completions.create(\n",
        "  model=\"gpt-3.5-turbo\",\n",
        "  messages=[\n",
        "    {\"role\": \"system\", \"content\": \"You are a helpful assistant.\"},\n",
        "    {\"role\": \"user\", \"content\": \"Who won the world series in 2020?\"},\n",
        "    {\"role\": \"assistant\", \"content\": \"The Los Angeles Dodgers won the World Series in 2020.\"},\n",
        "    {\"role\": \"user\", \"content\": \"Where was it played?\"}\n",
        "  ]\n",
        ")"
      ],
      "metadata": {
        "id": "Mfwzoq6zJVwD"
      },
      "execution_count": null,
      "outputs": []
    },
    {
      "cell_type": "markdown",
      "metadata": {
        "id": "XuqEE9zwkxHx"
      },
      "source": [
        "### 7️⃣ 寫成函式"
      ]
    },
    {
      "cell_type": "code",
      "execution_count": null,
      "metadata": {
        "id": "48eLL4VEQGza"
      },
      "outputs": [],
      "source": [
        "def get_reply(messages):\n",
        "    try:\n",
        "        response = client.chat.completions.create(\n",
        "            model = \"gpt-3.5-turbo\",\n",
        "            messages = messages\n",
        "        )\n",
        "        reply = response.choices[0].message.content\n",
        "    except OpenAIError as err:\n",
        "        reply = f\"發生 {err.error.type} 錯誤\\n{err.error.message}\"\n",
        "    return reply"
      ]
    },
    {
      "cell_type": "markdown",
      "metadata": {
        "id": "ZyB85LMUcHai"
      },
      "source": [
        "### 8️⃣ 簡易的對談程式"
      ]
    },
    {
      "cell_type": "code",
      "execution_count": null,
      "metadata": {
        "colab": {
          "base_uri": "https://localhost:8080/"
        },
        "id": "aMBhPuFwcH4G",
        "outputId": "a99c4d63-6b28-46a3-815e-0bba8b88f74c"
      },
      "outputs": [
        {
          "name": "stdout",
          "output_type": "stream",
          "text": [
            "你說：台灣在哪裡?\n",
            "ㄟ唉：台灣位於東亞的西太平洋西岸，東經119°18′至124°22′，北緯20°45′至25°56′之間。\n",
            "\n",
            "你說：面積有多大\n",
            "ㄟ唉：請問您指的是哪個面積？是地理面積、土地面積、建築物面積，還是其他的面積？請提供更具體的資訊以便我們能提供正確的答案。\n",
            "\n",
            "你說：\n"
          ]
        }
      ],
      "source": [
        "while True:\n",
        "    msg = input(\"你說：\")\n",
        "    if not msg.strip(): break\n",
        "    messages = [{\"role\":\"user\", \"content\":msg}]\n",
        "    reply = get_reply(messages)\n",
        "    print(f\"ㄟ唉：{reply}\\n\")"
      ]
    },
    {
      "cell_type": "markdown",
      "metadata": {
        "id": "4xyG43Miczix"
      },
      "source": [
        "### 9️⃣ 記憶對話紀錄的函式"
      ]
    },
    {
      "cell_type": "code",
      "execution_count": null,
      "metadata": {
        "id": "daLnk-UGczqX"
      },
      "outputs": [],
      "source": [
        "hist = []       # 歷史對話紀錄\n",
        "backtrace = 2   # 記錄幾組對話\n",
        "\n",
        "def chat(sys_msg, user_msg):\n",
        "    hist.append({\"role\":\"user\", \"content\":user_msg})\n",
        "    reply = get_reply(hist\n",
        "                      + [{\"role\":\"system\", \"content\":sys_msg}])\n",
        "    while len(hist) >= 2 * backtrace: # 超過記錄限制\n",
        "        hist.pop(0)                   # 移除最舊紀錄\n",
        "    hist.append({\"role\":\"assistant\", \"content\":reply})\n",
        "    return reply"
      ]
    },
    {
      "cell_type": "markdown",
      "metadata": {
        "id": "vgQuQjVLc5wU"
      },
      "source": [
        "### 🔟 能接續對話的 AI 程式"
      ]
    },
    {
      "cell_type": "code",
      "execution_count": null,
      "metadata": {
        "colab": {
          "base_uri": "https://localhost:8080/"
        },
        "id": "dKjDWUWAc59I",
        "outputId": "728e863c-654c-4c67-d3c0-b2c183545ec7"
      },
      "outputs": [
        {
          "name": "stdout",
          "output_type": "stream",
          "text": [
            "你希望ㄟ唉扮演：地理大師\n",
            "\n",
            "你說：台灣在哪裡?\n",
            "地理大師:台灣位於東亞的西太平洋西部，地處北緯23度27分至25度56分，東經119度18分至124度34分之間。台灣北臨東海（太平洋中的南海），東濱太平洋，南隔巴士海峽與菲律賓群島相望，西濱臺灣海峽與中國大陸相對。台灣的地理位置非常特殊，是東亞地區的重要交通樞紐，也是太平洋西部的重要門戶。\n",
            "\n",
            "你說：面積有多大?\n",
            "地理大師:台灣的總面積約36,193平方公里。這個面積包含了台灣本島以及南海諸島（澎湖群島、金門群島、馬祖群島等）。台灣本島的面積約有台灣總面積的97%，約35,883平方公里。\n",
            "\n",
            "你說：\n"
          ]
        }
      ],
      "source": [
        "sys_msg = input(\"你希望ㄟ唉扮演：\")\n",
        "if not sys_msg.strip(): sys_msg = '小助理'\n",
        "print()\n",
        "while True:\n",
        "    msg = input(\"你說：\")\n",
        "    if not msg.strip(): break\n",
        "    reply = chat(sys_msg, msg)\n",
        "    print(f\"{sys_msg}:{reply}\\n\")\n",
        "hist = []"
      ]
    },
    {
      "cell_type": "markdown",
      "metadata": {
        "id": "mAX-IFIYHrlH"
      },
      "source": [
        "### 1️⃣1️⃣ 安裝與匯入 google 搜尋套件\n"
      ]
    },
    {
      "cell_type": "code",
      "execution_count": null,
      "metadata": {
        "colab": {
          "base_uri": "https://localhost:8080/"
        },
        "id": "htKR8b20udnQ",
        "outputId": "3ad574c9-4f1a-4229-a9d7-f0580aa89d06"
      },
      "outputs": [
        {
          "output_type": "stream",
          "name": "stdout",
          "text": [
            "Collecting googlesearch-python\n",
            "  Downloading googlesearch-python-1.2.3.tar.gz (3.9 kB)\n",
            "  Preparing metadata (setup.py) ... \u001b[?25l\u001b[?25hdone\n",
            "Requirement already satisfied: beautifulsoup4>=4.9 in /usr/local/lib/python3.10/dist-packages (from googlesearch-python) (4.11.2)\n",
            "Requirement already satisfied: requests>=2.20 in /usr/local/lib/python3.10/dist-packages (from googlesearch-python) (2.31.0)\n",
            "Requirement already satisfied: soupsieve>1.2 in /usr/local/lib/python3.10/dist-packages (from beautifulsoup4>=4.9->googlesearch-python) (2.5)\n",
            "Requirement already satisfied: charset-normalizer<4,>=2 in /usr/local/lib/python3.10/dist-packages (from requests>=2.20->googlesearch-python) (3.3.1)\n",
            "Requirement already satisfied: idna<4,>=2.5 in /usr/local/lib/python3.10/dist-packages (from requests>=2.20->googlesearch-python) (3.4)\n",
            "Requirement already satisfied: urllib3<3,>=1.21.1 in /usr/local/lib/python3.10/dist-packages (from requests>=2.20->googlesearch-python) (2.0.7)\n",
            "Requirement already satisfied: certifi>=2017.4.17 in /usr/local/lib/python3.10/dist-packages (from requests>=2.20->googlesearch-python) (2023.7.22)\n",
            "Building wheels for collected packages: googlesearch-python\n",
            "  Building wheel for googlesearch-python (setup.py) ... \u001b[?25l\u001b[?25hdone\n",
            "  Created wheel for googlesearch-python: filename=googlesearch_python-1.2.3-py3-none-any.whl size=4204 sha256=492352366b5c5513631da20e7c70977ea68fdb4fb0c9e95664d591acc13bcf6e\n",
            "  Stored in directory: /root/.cache/pip/wheels/98/24/e9/6c225502948c629b01cc895f86406819281ef0da385f3eb669\n",
            "Successfully built googlesearch-python\n",
            "Installing collected packages: googlesearch-python\n",
            "Successfully installed googlesearch-python-1.2.3\n"
          ]
        }
      ],
      "source": [
        "!pip install googlesearch-python\n",
        "from googlesearch import search"
      ]
    },
    {
      "cell_type": "markdown",
      "metadata": {
        "id": "Fx_Hs7E172Ko"
      },
      "source": [
        "### 1️⃣2️⃣ 使用 google 搜尋套件"
      ]
    },
    {
      "cell_type": "code",
      "execution_count": null,
      "metadata": {
        "colab": {
          "base_uri": "https://localhost:8080/"
        },
        "id": "cd1BRQ_m8UBx",
        "outputId": "488bf7fe-a081-41b1-c034-236a5dc970b0"
      },
      "outputs": [
        {
          "output_type": "stream",
          "name": "stdout",
          "text": [
            "2023年NBA總決賽 - 維基百科\n",
            "2023年NBA總決賽（英語：2023 NBA Finals）是2022–23 NBA賽季的冠軍系列賽，將由2023年6月1日至6月12日進行，由西區第一種子丹佛金塊對戰東區第八種子邁阿密熱火，比賽 ...\n",
            "https://zh.wikipedia.org/zh-hant/2023%E5%B9%B4NBA%E7%B8%BD%E6%B1%BA%E8%B3%BD\n",
            "\n",
            "2023年NBA季後賽 - 維基百科\n",
            "... NBA賽季例行賽完畢後舉行的七戰四勝制淘汰賽，本屆是第76屆季後賽。 2023年NBA季後賽. 賽季, 2022–23. 隊伍數, 16. 冠軍, 丹佛金塊 (1 title). 失利球隊, 邁阿密熱火 (7 ...\n",
            "https://zh.wikipedia.org/zh-hant/2023%E5%B9%B4NBA%E5%AD%A3%E5%BE%8C%E8%B3%BD\n",
            "\n",
            "丹佛掘金队是2023 年NBA 冠军-完整体育\n",
            "Jun 13, 2023 — 丹佛掘金队在94 年NBA 总决赛第89 场比赛中以5-2023 击败迈阿密热火队，赢得了他们有史以来的第一个NBA 总冠军。\n",
            "https://www.completesports.com/zh-CN/denver-nuggets-are-2023-nba-champions/\n",
            "\n",
            "狠酸金塊只是擊敗3支附加賽球隊奪冠！名記者痛批：史上最 ...\n",
            "Jun 13, 2023 — 2022-2023賽季NBA總冠軍賽正式落幕，由丹佛金塊在第五戰以94：89擊敗邁阿密熱火封王。系列賽4勝1敗奪得隊史46年來首座冠軍，不過美國記者帕爾馬 ...\n",
            "https://tw.yahoo.com/today/%E7%8B%A0%E9%85%B8%E9%87%91%E5%A1%8A%E5%8F%AA%E6%98%AF%E6%93%8A%E6%95%973%E6%94%AF%E9%99%84%E5%8A%A0%E8%B3%BD%E7%90%83%E9%9A%8A%E5%A5%AA%E5%86%A0-%E5%90%8D%E8%A8%98%E8%80%85%E7%97%9B%E6%89%B9-%E5%8F%B2%E4%B8%8A%E6%9C%80%E6%B0%B4%E5%86%A0%E8%BB%8D-131053675.html\n",
            "\n",
            "丹佛金塊首次贏得NBA總冠軍\n",
            "Jun 13, 2023 — 星期一，丹佛金塊隊在主場以94-89擊敗邁阿密熱火隊，贏得2022-23年NBA 美國國家籃球協會冠軍。 金塊在七場四勝制系列賽中以3-1領先進入這場比賽，但在 ...\n",
            "https://www.voacantonese.com/a/denver-nuggets-win-first-ever-nba-championship-20230613/7135098.html\n",
            "\n"
          ]
        }
      ],
      "source": [
        "for item in search(\n",
        "    \"NBA 2023 冠軍隊\", advanced=True, num_results=3):\n",
        "    print(item.title)\n",
        "    print(item.description)\n",
        "    print(item.url)\n",
        "    print()"
      ]
    },
    {
      "cell_type": "markdown",
      "metadata": {
        "id": "ndwQg9wVx7eN"
      },
      "source": [
        "### 1️⃣3️⃣ 將搜尋結果加入到 content 中"
      ]
    },
    {
      "cell_type": "code",
      "execution_count": null,
      "metadata": {
        "id": "47Ya7BkDucsR"
      },
      "outputs": [],
      "source": [
        "hist = []       # 歷史對話紀錄\n",
        "backtrace = 2   # 記錄幾組對話\n",
        "\n",
        "def chat_w(sys_msg, user_msg, search_g = True):\n",
        "    web_res = []\n",
        "    if search_g == True: # 代表要搜尋網路\n",
        "        content = \"以下為已發生的事實：\\n\"\n",
        "        for res in search(user_msg, advanced=True,\n",
        "                          num_results=3, lang='zh-TW'):\n",
        "            content += f\"標題：{res.title}\\n\" \\\n",
        "                       f\"摘要：{res.description}\\n\\n\"\n",
        "        content += \"請依照上述事實回答問題 \\n\"\n",
        "        web_res = [{\"role\": \"user\", \"content\": content}]\n",
        "    web_res.append({\"role\": \"user\", \"content\": user_msg})\n",
        "    while len(hist) >= 2 * backtrace: # 超過記錄限制\n",
        "        hist.pop(0)  # 移除最舊的紀錄\n",
        "    reply_full = \"\"\n",
        "    for reply in get_reply(\n",
        "        hist                          # 先提供歷史紀錄\n",
        "        + web_res                     # 再提供搜尋結果及目前訊息\n",
        "        + [{\"role\": \"system\", \"content\": sys_msg}]):\n",
        "        reply_full += reply           # 記錄到目前為止收到的訊息\n",
        "        yield reply                   # 傳回本次收到的片段訊息\n",
        "    hist.append({\"role\": \"user\", \"content\": user_msg})\n",
        "    while len(hist) >= 2 * backtrace: # 超過記錄限制\n",
        "        hist.pop(0)                   # 移除最舊紀錄\n",
        "    hist.append({\"role\":\"assistant\", \"content\":reply_full})"
      ]
    },
    {
      "cell_type": "markdown",
      "metadata": {
        "id": "5ItD6pYlyMjS"
      },
      "source": [
        "### 1️⃣4️⃣ 突破搜尋限制的聊天機器人"
      ]
    },
    {
      "cell_type": "code",
      "execution_count": null,
      "metadata": {
        "colab": {
          "base_uri": "https://localhost:8080/"
        },
        "id": "JZKP6M_fuvqv",
        "outputId": "29d7ae89-cc95-49b3-838f-9aefde0424f5"
      },
      "outputs": [
        {
          "name": "stdout",
          "output_type": "stream",
          "text": [
            "你說：NBA 2023 冠軍隊是誰?\n",
            "小助理：2023年NBA冠軍隊是丹佛金塊隊。\n",
            "\n",
            "你說：\n"
          ]
        }
      ],
      "source": [
        "sys_msg = '小助理'\n",
        "\n",
        "while True:\n",
        "    msg = input(\"你說：\")\n",
        "    if not msg.strip(): break\n",
        "    print(f\"{sys_msg}：\", end = \"\")\n",
        "    for reply in chat_w(sys_msg, msg, search_g = True):\n",
        "        print(reply, end = \"\")\n",
        "    print('\\n')\n",
        "hist = []"
      ]
    }
  ],
  "metadata": {
    "colab": {
      "provenance": []
    },
    "kernelspec": {
      "display_name": "Python 3",
      "name": "python3"
    },
    "language_info": {
      "name": "python"
    }
  },
  "nbformat": 4,
  "nbformat_minor": 0
}